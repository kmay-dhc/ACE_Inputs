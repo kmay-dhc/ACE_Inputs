{
 "cells": [
  {
   "cell_type": "code",
   "execution_count": 1,
   "metadata": {},
   "outputs": [],
   "source": [
    "import pandas as pd \n",
    "import numpy as np \n",
    "\n",
    "import pyodbc\n",
    "from google.cloud import bigquery\n",
    "\n",
    "from datetime import datetime"
   ]
  },
  {
   "cell_type": "code",
   "execution_count": 2,
   "metadata": {},
   "outputs": [],
   "source": [
    "# Pull all code volumes by physician, by year"
   ]
  },
  {
   "cell_type": "code",
   "execution_count": null,
   "metadata": {},
   "outputs": [],
   "source": []
  },
  {
   "cell_type": "code",
   "execution_count": 3,
   "metadata": {},
   "outputs": [],
   "source": [
    "bq_conn = bigquery.Client()"
   ]
  },
  {
   "cell_type": "code",
   "execution_count": 4,
   "metadata": {},
   "outputs": [],
   "source": [
    "ssms_conn = pyodbc.connect('DRIVER={ODBC Driver 17 for SQL Server};SERVER=DHCSQLP02;DATABASE=ANALYST_WORK;Trusted_Connection=yes;')"
   ]
  },
  {
   "cell_type": "markdown",
   "metadata": {},
   "source": [
    "#### Procedures - Medicare"
   ]
  },
  {
   "cell_type": "code",
   "execution_count": 5,
   "metadata": {},
   "outputs": [],
   "source": [
    "\n",
    "### MEDICARE INPATIENT PROCEDURES ###\n",
    "\n",
    "def pull_medicare_inpatient_procs(year, qtrly=0):\n",
    "    \n",
    "    if qtrly == 1:\n",
    "        q = '_q'\n",
    "        q2 = '_QTRLY'\n",
    "    else:\n",
    "        q = ''\n",
    "        q2 = ''\n",
    "    \n",
    "    med_inp_pr_sql = \"\"\"\n",
    "    SELECT  {yr} AS CLAIM_YEAR\n",
    "        ,   PROCEDURE_CODE\n",
    "        ,   CASE WHEN C.AGE < 45 THEN 'Less than 45'\n",
    "                 WHEN C.AGE>=45 AND C.AGE<55 THEN '45-54'\n",
    "                 WHEN C.AGE>=55 AND C.AGE<65 THEN '55-64'\n",
    "                 WHEN C.AGE>=65 AND C.AGE<75 THEN '65-74'\n",
    "                 WHEN C.AGE>=75 AND C.AGE<85 THEN '75-84'\n",
    "                 WHEN C.AGE>=85 THEN '85+'\n",
    "            ELSE 'Unknown' END AS AGE_RANGE \n",
    "        ,   CASE WHEN SEX_CODE = 1 THEN 'M' WHEN SEX_CODE = 2 THEN 'F' ELSE 'U' END AS GENDER \n",
    "        ,   A.PHYSICIAN_NPI\n",
    "        ,   'Medicare' AS CLAIMS_SOURCE \n",
    "        ,   COUNT(*) AS NUM_PROCEDURES\n",
    "        ,   COUNT(DISTINCT C.DESY_SORT_KEY) AS NUM_PATIENTS \n",
    "    FROM    (\n",
    "            SELECT  DISTINCT A.DESY_SORT_KEY \n",
    "                ,   A.CLM_THRU_DT \n",
    "                ,   B.CLM_PRCDR_CD_ORIG AS PROCEDURE_CODE \n",
    "                ,   COALESCE(A.OP_PHYSN_NPI, A.AT_PHYSN_NPI) AS PHYSICIAN_NPI\n",
    "            FROM    MEDICARE_SAF_{yr}.dbo.inp_claimsk_lds_100_{yr}{q} A \n",
    "            JOIN    MEDICARE_SAF_{yr}.dbo.INPATIENT_CLM_PRCDR{q2} B \n",
    "            ON      A.CLAIM_NO = B.CLAIM_NO \n",
    "            ) A\n",
    "    JOIN    MEDICARE_SAF_{yr}.dbo.CLMS_DENOMINATOR_MEDICARE{q2} C \n",
    "    ON      A.DESY_SORT_KEY = C.DESY_SORT_KEY\n",
    "    GROUP   BY PROCEDURE_CODE\n",
    "        ,   CASE WHEN C.AGE < 45 THEN 'Less than 45'\n",
    "                 WHEN C.AGE>=45 AND C.AGE<55 THEN '45-54'\n",
    "                 WHEN C.AGE>=55 AND C.AGE<65 THEN '55-64'\n",
    "                 WHEN C.AGE>=65 AND C.AGE<75 THEN '65-74'\n",
    "                 WHEN C.AGE>=75 AND C.AGE<85 THEN '75-84'\n",
    "                 WHEN C.AGE>=85 THEN '85+'\n",
    "            ELSE 'Unknown' END\n",
    "        ,   CASE WHEN SEX_CODE = 1 THEN 'M' WHEN SEX_CODE = 2 THEN 'F' ELSE 'U' END\n",
    "        ,   A.PHYSICIAN_NPI\n",
    "    \"\"\".format(yr=year, q=q, q2=q2)\n",
    "\n",
    "    med_inp_pr_df = pd.read_sql(med_inp_pr_sql, ssms_conn)\n",
    "    \n",
    "    return med_inp_pr_df "
   ]
  },
  {
   "cell_type": "code",
   "execution_count": 6,
   "metadata": {},
   "outputs": [
    {
     "name": "stdout",
     "output_type": "stream",
     "text": [
      "Running Medicare Inpatient for 2018\n",
      "Medicare Inpatient for 2018 complete.\n",
      "Loading Medicare Inpatient for 2018 to BQ.\n"
     ]
    },
    {
     "name": "stderr",
     "output_type": "stream",
     "text": [
      "/usr/local/lib/python3.6/site-packages/google/cloud/bigquery/_pandas_helpers.py:275: UserWarning: Unable to determine type of column 'PROCEDURE_CODE'.\n",
      "  warnings.warn(u\"Unable to determine type of column '{}'.\".format(column))\n"
     ]
    },
    {
     "name": "stdout",
     "output_type": "stream",
     "text": [
      "<google.cloud.bigquery.job.LoadJob object at 0x7fb25252ab70>\n",
      "Running Medicare Inpatient for 2019\n",
      "Medicare Inpatient for 2019 complete.\n",
      "Loading Medicare Inpatient for 2019 to BQ.\n",
      "<google.cloud.bigquery.job.LoadJob object at 0x7fb252d43cf8>\n"
     ]
    }
   ],
   "source": [
    "for year in[2018, 2019]:\n",
    "    if year==2019:\n",
    "        qtrly=1\n",
    "    else:\n",
    "        qtrly=0\n",
    "    print('Running Medicare Inpatient for {yr}'.format(yr=year))\n",
    "    med_inp_pr_result = pull_medicare_inpatient_procs(year, qtrly)\n",
    "    \n",
    "    print('Medicare Inpatient for {yr} complete.'.format(yr=year))\n",
    "    dataframe = med_inp_pr_result\n",
    "    \n",
    "    print('Loading Medicare Inpatient for {yr} to BQ.'.format(yr=year))\n",
    "    tablename = 'stable-healer-231019.DS_WORK.ALL_PHYSICIAN_PROCEDURES_MEDICARE_YEARLY'\n",
    "    job = bq_conn.load_table_from_dataframe(dataframe, destination = tablename)\n",
    "    print(job.result())"
   ]
  },
  {
   "cell_type": "code",
   "execution_count": null,
   "metadata": {},
   "outputs": [],
   "source": []
  },
  {
   "cell_type": "code",
   "execution_count": 5,
   "metadata": {},
   "outputs": [],
   "source": [
    "### MEDICARE OUTPATIENT PROCEDURES ###\n",
    "\n",
    "def pull_medicare_outpatient_procs(year, qtrly, cd):\n",
    "    \n",
    "    if qtrly == 1:\n",
    "        q = '_q'\n",
    "        q2 = '_QTRLY'\n",
    "    else:\n",
    "        q = ''\n",
    "        q2 = ''\n",
    "        \n",
    "    med_out_pr_sql = \"\"\"\n",
    "    SELECT   {yr} AS CLAIM_YEAR\n",
    "        ,   PROCEDURE_CODE\n",
    "        ,   CASE WHEN C.AGE < 45 THEN 'Less than 45'\n",
    "                 WHEN C.AGE>=45 AND C.AGE<55 THEN '45-54'\n",
    "                 WHEN C.AGE>=55 AND C.AGE<65 THEN '55-64'\n",
    "                 WHEN C.AGE>=65 AND C.AGE<75 THEN '65-74'\n",
    "                 WHEN C.AGE>=75 AND C.AGE<85 THEN '75-84'\n",
    "                 WHEN C.AGE>=85 THEN '85+'\n",
    "            ELSE 'Unknown' END AS AGE_RANGE \n",
    "        ,   CASE WHEN SEX_CODE = 1 THEN 'M' WHEN SEX_CODE = 2 THEN 'F' ELSE 'U' END AS GENDER \n",
    "        ,   A.PHYSICIAN_NPI\n",
    "        ,   'Medicare' AS CLAIMS_SOURCE \n",
    "        ,   COUNT(*) AS NUM_PROCEDURES\n",
    "        ,   COUNT(DISTINCT C.DESY_SORT_KEY) AS NUM_PATIENTS \n",
    "    FROM    (\n",
    "            SELECT  DISTINCT A.DESY_SORT_KEY \n",
    "                ,   A.CLM_THRU_DT \n",
    "                ,   B.HCPCS_CD AS PROCEDURE_CODE \n",
    "                ,   COALESCE(A.OP_PHYSN_NPI, A.AT_PHYSN_NPI) AS PHYSICIAN_NPI\n",
    "            FROM    MEDICARE_SAF_{yr}.dbo.out_claimsk_lds_100_{yr}{q} A \n",
    "            JOIN    MEDICARE_SAF_{yr}.dbo.out_revenuek_lds_100_{yr}{q} B \n",
    "            ON      A.CLAIM_NO = B.CLAIM_NO \n",
    "            WHERE   B.HCPCS_CD IN({cd})\n",
    "            ) A\n",
    "    JOIN    MEDICARE_SAF_{yr}.dbo.CLMS_DENOMINATOR_MEDICARE{q2} C \n",
    "    ON      A.DESY_SORT_KEY = C.DESY_SORT_KEY\n",
    "    GROUP   BY PROCEDURE_CODE\n",
    "        ,   CASE WHEN C.AGE < 45 THEN 'Less than 45'\n",
    "                 WHEN C.AGE>=45 AND C.AGE<55 THEN '45-54'\n",
    "                 WHEN C.AGE>=55 AND C.AGE<65 THEN '55-64'\n",
    "                 WHEN C.AGE>=65 AND C.AGE<75 THEN '65-74'\n",
    "                 WHEN C.AGE>=75 AND C.AGE<85 THEN '75-84'\n",
    "                 WHEN C.AGE>=85 THEN '85+'\n",
    "            ELSE 'Unknown' END \n",
    "        ,   CASE WHEN SEX_CODE = 1 THEN 'M' WHEN SEX_CODE = 2 THEN 'F' ELSE 'U' END \n",
    "        ,   A.PHYSICIAN_NPI\n",
    "    \"\"\".format(yr=year, q=q, q2=q2, cd=cd)\n",
    "\n",
    "    med_out_pr_df = pd.read_sql(med_out_pr_sql, ssms_conn)\n",
    "    \n",
    "    return med_out_pr_df"
   ]
  },
  {
   "cell_type": "code",
   "execution_count": 6,
   "metadata": {},
   "outputs": [],
   "source": [
    "# for year in[2018, 2019]:\n",
    "#     if year == 2019:\n",
    "#         qtrly=1\n",
    "#     else:\n",
    "#         qtrly=0\n",
    "#     print(datetime.now().strftime(\"%m/%d/%Y, %H:%M:%S\"))\n",
    "#     print('Running Medicare Outpatient for {yr}'.format(yr=year))\n",
    "#     med_out_pr_result = pull_medicare_outpatient_procs(year, qtrly)\n",
    "    \n",
    "#     print('Medicare Outpatient for {yr} complete.'.format(yr=year))\n",
    "#     dataframe = med_out_pr_result\n",
    "    \n",
    "#     print('Loading Medicare Outpatient for {yr} to BQ.'.format(yr=year))\n",
    "#     tablename = 'stable-healer-231019.DS_WORK.ALL_PHYSICIAN_PROCEDURES_MEDICARE_YEARLY'\n",
    "#     job = bq_conn.load_table_from_dataframe(dataframe, destination = tablename)\n",
    "#     print(job.result())\n",
    "#     print(datetime.now().strftime(\"%m/%d/%Y, %H:%M:%S\"))"
   ]
  },
  {
   "cell_type": "code",
   "execution_count": 8,
   "metadata": {},
   "outputs": [],
   "source": [
    "yr = 2018\n",
    "q = ''\n",
    "qtrly = 0 \n",
    "\n",
    "cpt_codes = pd.read_sql(\"\"\"SELECT DISTINCT REV_CNTR_HCPCS_CD FROM MEDICARE_SAF_{yr}.dbo.OUTPATIENT_REV_CENTER{q} WITH(NOLOCK) WHERE REV_CNTR_HCPCS_CD IS NOT NULL\"\"\".format(yr=yr, q=q), ssms_conn)\n",
    "\n",
    "cpt_codes = list(cpt_codes['REV_CNTR_HCPCS_CD'])\n",
    "\n",
    "codes_in_table = bq_conn.query(\"\"\"SELECT DISTINCT PROCEDURE_CODE FROM DS_WORK.ALL_PHYSICIAN_PROCEDURES_MEDICARE_YEARLY WHERE CLAIM_YEAR={yr}\"\"\".format(yr=yr)).result().to_dataframe()\n",
    "codes_in_table = list(codes_in_table['PROCEDURE_CODE']) \n",
    "\n",
    "cpt_codes_new = [\"\"\"'\"\"\"+x+\"\"\"'\"\"\" for x in cpt_codes if x not in codes_in_table]"
   ]
  },
  {
   "cell_type": "code",
   "execution_count": 9,
   "metadata": {},
   "outputs": [
    {
     "name": "stdout",
     "output_type": "stream",
     "text": [
      "12354\n",
      "12354\n"
     ]
    }
   ],
   "source": [
    "print(len(cpt_codes))\n",
    "print(len(cpt_codes_new))"
   ]
  },
  {
   "cell_type": "code",
   "execution_count": 10,
   "metadata": {},
   "outputs": [],
   "source": [
    "l  = list()\n",
    "for z in range(0, len(cpt_codes_new)+1):\n",
    "    if z % 100 == 0:\n",
    "        l.append(z)"
   ]
  },
  {
   "cell_type": "code",
   "execution_count": 11,
   "metadata": {},
   "outputs": [
    {
     "name": "stdout",
     "output_type": "stream",
     "text": [
      "06/24/2020, 10:19:40\n",
      "Running Medicare Outpatient procedures for 2018\n",
      "Finished 06/24/2020, 14:30:30\n"
     ]
    }
   ],
   "source": [
    "print(datetime.now().strftime(\"%m/%d/%Y, %H:%M:%S\"))\n",
    "print('Running Medicare Outpatient procedures for {yr}'.format(yr=yr))\n",
    "\n",
    "for n in l: \n",
    "    code = ','.join(cpt_codes_new[n:n+100])\n",
    "    med_out_pr_result = pull_medicare_outpatient_procs(year=yr, qtrly=qtrly, cd=code)\n",
    "    dataframe = med_out_pr_result\n",
    "    tablename = 'stable-healer-231019.DS_WORK.ALL_PHYSICIAN_PROCEDURES_MEDICARE_YEARLY'\n",
    "    job = bq_conn.load_table_from_dataframe(dataframe, destination = tablename)\n",
    "    res = job.result()\n",
    "\n",
    "print('Finished', datetime.now().strftime(\"%m/%d/%Y, %H:%M:%S\"))"
   ]
  },
  {
   "cell_type": "code",
   "execution_count": null,
   "metadata": {},
   "outputs": [],
   "source": []
  },
  {
   "cell_type": "code",
   "execution_count": 6,
   "metadata": {},
   "outputs": [],
   "source": [
    "yr = 2019\n",
    "q = '_QTRLY'\n",
    "qtrly = 1 \n",
    "\n",
    "cpt_codes = pd.read_sql(\"\"\"SELECT DISTINCT REV_CNTR_HCPCS_CD FROM MEDICARE_SAF_{yr}.dbo.OUTPATIENT_REV_CENTER{q} WITH(NOLOCK) WHERE REV_CNTR_HCPCS_CD IS NOT NULL\"\"\".format(yr=yr, q=q), ssms_conn)\n",
    "\n",
    "cpt_codes = list(cpt_codes['REV_CNTR_HCPCS_CD'])\n",
    "\n",
    "codes_in_table = bq_conn.query(\"\"\"SELECT DISTINCT PROCEDURE_CODE FROM DS_WORK.ALL_PHYSICIAN_PROCEDURES_MEDICARE_YEARLY WHERE CLAIM_YEAR={yr}\"\"\".format(yr=yr)).result().to_dataframe()\n",
    "codes_in_table = list(codes_in_table['PROCEDURE_CODE']) \n",
    "\n",
    "cpt_codes_new = [\"\"\"'\"\"\"+x+\"\"\"'\"\"\" for x in cpt_codes if x not in codes_in_table]"
   ]
  },
  {
   "cell_type": "code",
   "execution_count": 7,
   "metadata": {},
   "outputs": [
    {
     "name": "stdout",
     "output_type": "stream",
     "text": [
      "12206\n",
      "4106\n"
     ]
    }
   ],
   "source": [
    "print(len(cpt_codes))\n",
    "print(len(cpt_codes_new))"
   ]
  },
  {
   "cell_type": "code",
   "execution_count": 8,
   "metadata": {},
   "outputs": [],
   "source": [
    "l  = list()\n",
    "for z in range(0, len(cpt_codes_new)+1):\n",
    "    if z % 100 == 0:\n",
    "        l.append(z)"
   ]
  },
  {
   "cell_type": "code",
   "execution_count": 9,
   "metadata": {},
   "outputs": [
    {
     "name": "stdout",
     "output_type": "stream",
     "text": [
      "06/25/2020, 01:05:16\n",
      "Running Medicare Outpatient procedures for 2019\n"
     ]
    },
    {
     "name": "stderr",
     "output_type": "stream",
     "text": [
      "/usr/local/lib/python3.6/site-packages/google/cloud/bigquery/_pandas_helpers.py:275: UserWarning: Unable to determine type of column 'PROCEDURE_CODE'.\n",
      "  warnings.warn(u\"Unable to determine type of column '{}'.\".format(column))\n"
     ]
    },
    {
     "name": "stdout",
     "output_type": "stream",
     "text": [
      "Finished 06/25/2020, 02:57:26\n"
     ]
    }
   ],
   "source": [
    "print(datetime.now().strftime(\"%m/%d/%Y, %H:%M:%S\"))\n",
    "print('Running Medicare Outpatient procedures for {yr}'.format(yr=yr))\n",
    "\n",
    "for n in l: \n",
    "    code = ','.join(cpt_codes_new[n:n+100])\n",
    "    med_out_pr_result = pull_medicare_outpatient_procs(year=yr, qtrly=qtrly, cd=code)\n",
    "    dataframe = med_out_pr_result\n",
    "    tablename = 'stable-healer-231019.DS_WORK.ALL_PHYSICIAN_PROCEDURES_MEDICARE_YEARLY'\n",
    "    job = bq_conn.load_table_from_dataframe(dataframe, destination = tablename)\n",
    "    res = job.result()\n",
    "\n",
    "print('Finished', datetime.now().strftime(\"%m/%d/%Y, %H:%M:%S\"))"
   ]
  },
  {
   "cell_type": "code",
   "execution_count": null,
   "metadata": {},
   "outputs": [],
   "source": []
  },
  {
   "cell_type": "markdown",
   "metadata": {},
   "source": [
    "#### Procedures - Commercial"
   ]
  },
  {
   "cell_type": "code",
   "execution_count": 5,
   "metadata": {},
   "outputs": [],
   "source": [
    "def run_sql_BQ(filename):\n",
    "    file = open(filename, 'r')\n",
    "    file_text = file.read()\n",
    "    file.close()\n",
    "    \n",
    "    sqlCommands = file_text.split(';')\n",
    "    \n",
    "    for i, command in enumerate(sqlCommands):\n",
    "        bq_conn = bigquery.Client()\n",
    "        try:\n",
    "            job = bq_conn.query(command)\n",
    "            print(job.result())\n",
    "            print(\"Command successful: \", str(i))\n",
    "        except:\n",
    "            print(\"Command skipped: \", str(i))"
   ]
  },
  {
   "cell_type": "code",
   "execution_count": 6,
   "metadata": {},
   "outputs": [
    {
     "name": "stdout",
     "output_type": "stream",
     "text": [
      "2020-06-29 10:09:23.523477\n",
      "<google.cloud.bigquery.table._EmptyRowIterator object at 0x7f31613b8d68>\n",
      "Command successful:  0\n",
      "<google.cloud.bigquery.table._EmptyRowIterator object at 0x7f31a421f160>\n",
      "Command successful:  1\n",
      "2020-06-29 10:14:37.122184\n"
     ]
    }
   ],
   "source": [
    "# Commercial demo table prep\n",
    "print(datetime.now())\n",
    "run_sql_BQ('Commercial_Prep.txt')\n",
    "print(datetime.now())"
   ]
  },
  {
   "cell_type": "code",
   "execution_count": 7,
   "metadata": {},
   "outputs": [
    {
     "name": "stdout",
     "output_type": "stream",
     "text": [
      "2020-06-29 10:14:37.127109\n",
      "<google.cloud.bigquery.table._EmptyRowIterator object at 0x7f318dadc908>\n",
      "Command successful:  0\n",
      "<google.cloud.bigquery.table._EmptyRowIterator object at 0x7f318da8f668>\n",
      "Command successful:  1\n",
      "2020-06-29 10:32:47.452087\n"
     ]
    }
   ],
   "source": [
    "# Commercial Procedures - update table \n",
    "print(datetime.now())\n",
    "run_sql_BQ('CLAIMS_BY_CODE_px_table_COMM.txt')\n",
    "print(datetime.now())"
   ]
  },
  {
   "cell_type": "code",
   "execution_count": null,
   "metadata": {},
   "outputs": [],
   "source": []
  },
  {
   "cell_type": "code",
   "execution_count": 8,
   "metadata": {},
   "outputs": [],
   "source": [
    "### COMMERCIAL ICD ###\n",
    "\n",
    "def pull_commercial_icd_procs(year):\n",
    "    \n",
    "    comm_icd_sql = \"\"\"\n",
    "        INSERT INTO DS_WORK.ALL_PHYSICIAN_PROCEDURES_COMMERCIAL_YEARLY (CLAIM_YEAR, PROCEDURE_CODE, AGE_RANGE, GENDER, PHYSICIAN_NPI, CLAIMS_SOURCE, NUM_PROCEDURES, NUM_PATIENTS)\n",
    "        SELECT CLAIM_YEAR\n",
    "            ,  PROCEDURE_CODE\n",
    "            ,  CASE WHEN AGE < 45 THEN 'Less than 45'\n",
    "                    WHEN AGE >=45 AND AGE <55 THEN '45-54'\n",
    "                    WHEN AGE>=55 AND AGE<65 THEN '55-64'\n",
    "                    WHEN AGE>=65 AND AGE<75 THEN '65-74'\n",
    "                    WHEN AGE>=75 AND AGE<85 THEN '75-84'\n",
    "                    WHEN AGE>=85 THEN '85+'\n",
    "               ELSE 'Unknown' END AS AGE_RANGE\n",
    "            ,  GENDER\n",
    "            ,  PHYSICIAN_NPI\n",
    "            ,  'Commercial' AS CLAIMS_SOURCE\n",
    "            ,  COUNT(*) AS NUM_PROCEDURES \n",
    "            ,  COUNT(DISTINCT DPID) AS NUM_PATIENTS\n",
    "          FROM (\n",
    "                SELECT DISTINCT DPID\n",
    "                    ,  RENDERING_DEFHC_ID AS PHYSICIAN_NPI\n",
    "                    ,  GENDER\n",
    "                    ,  CAST(YEAR_OF_BIRTH AS INT64) AS YEAR_OF_BIRTH\n",
    "                    ,  CLAIM_YEAR - CAST(YEAR_OF_BIRTH AS INT64) AS AGE\n",
    "                    ,  CLAIM_YEAR\n",
    "                    ,  SAFE_CAST(CONCAT(SUBSTR(CAST(SERVICE_TO_DATE AS STRING), 1, 4), '-', SUBSTR(CAST(SERVICE_TO_DATE AS STRING), 5, 2), '-', SUBSTR(CAST(SERVICE_TO_DATE AS STRING), 7, 2)) AS DATE) AS SERVICE_TO_DATE\n",
    "                    ,  ProcedureCode AS PROCEDURE_CODE\n",
    "                FROM   DS_WORK.CLAIMS_BY_CODE_PX_SOP A \n",
    "                JOIN   CommercialHealthClaims.PhysicianLookup B\n",
    "                ON     A.RENDERING_DEFHC_ID = B.NPI \n",
    "                WHERE  CLAIM_YEAR = {yr}\n",
    "                AND    ICD_HCPCS = 1\n",
    "                AND    SourceOfPaymentCode NOT IN ('MA','MB')\n",
    "                ) A\n",
    "         GROUP BY CLAIM_YEAR\n",
    "            ,  PROCEDURE_CODE\n",
    "            ,  CASE WHEN AGE < 45 THEN 'Less than 45'\n",
    "                    WHEN AGE >=45 AND AGE <55 THEN '45-54'\n",
    "                    WHEN AGE>=55 AND AGE<65 THEN '55-64'\n",
    "                    WHEN AGE>=65 AND AGE<75 THEN '65-74'\n",
    "                    WHEN AGE>=75 AND AGE<85 THEN '75-84'\n",
    "                    WHEN AGE>=85 THEN '85+'\n",
    "               ELSE 'Unknown' END\n",
    "            ,  GENDER\n",
    "            ,  PHYSICIAN_NPI\n",
    "\"\"\".format(yr=year)\n",
    "    \n",
    "    comm_icd = bq_conn.query(comm_icd_sql)\n",
    "    comm_icd.result()"
   ]
  },
  {
   "cell_type": "code",
   "execution_count": 9,
   "metadata": {},
   "outputs": [
    {
     "name": "stdout",
     "output_type": "stream",
     "text": [
      "06/29/2020, 10:32:47\n",
      "Running Commercial ICD Procs 2018\n",
      "Commercial ICD procs complete 2018.\n",
      "06/29/2020, 10:33:28\n",
      "06/29/2020, 10:33:28\n",
      "Running Commercial ICD Procs 2019\n",
      "Commercial ICD procs complete 2019.\n",
      "06/29/2020, 10:34:24\n"
     ]
    }
   ],
   "source": [
    "for year in[2018, 2019]:\n",
    "    print(datetime.now().strftime(\"%m/%d/%Y, %H:%M:%S\"))\n",
    "    print('Running Commercial ICD Procs {}'.format(year))\n",
    "    comm_pr_icd_result = pull_commercial_icd_procs(year)\n",
    "\n",
    "    print('Commercial ICD procs complete {}.'.format(year))\n",
    "    dataframe = comm_pr_icd_result\n",
    "\n",
    "    print(datetime.now().strftime(\"%m/%d/%Y, %H:%M:%S\"))"
   ]
  },
  {
   "cell_type": "code",
   "execution_count": null,
   "metadata": {},
   "outputs": [],
   "source": []
  },
  {
   "cell_type": "code",
   "execution_count": 10,
   "metadata": {},
   "outputs": [],
   "source": [
    "### COMMERCIAL HCPCS ###\n",
    "\n",
    "def pull_commercial_hcpcs_procs(year):\n",
    "    \n",
    "    comm_hcpcs_sql = \"\"\"\n",
    "        INSERT INTO DS_WORK.ALL_PHYSICIAN_PROCEDURES_COMMERCIAL_YEARLY (CLAIM_YEAR, PROCEDURE_CODE, AGE_RANGE, GENDER, PHYSICIAN_NPI, CLAIMS_SOURCE, NUM_PROCEDURES, NUM_PATIENTS)\n",
    "        SELECT CLAIM_YEAR\n",
    "            ,  PROCEDURE_CODE\n",
    "            ,  CASE WHEN AGE < 45 THEN 'Less than 45'\n",
    "                    WHEN AGE >=45 AND AGE <55 THEN '45-54'\n",
    "                    WHEN AGE>=55 AND AGE<65 THEN '55-64'\n",
    "                    WHEN AGE>=65 AND AGE<75 THEN '65-74'\n",
    "                    WHEN AGE>=75 AND AGE<85 THEN '75-84'\n",
    "                    WHEN AGE>=85 THEN '85+'\n",
    "               ELSE 'Unknown' END AS AGE_RANGE\n",
    "            ,  GENDER\n",
    "            ,  PHYSICIAN_NPI\n",
    "            ,  'Commercial' AS CLAIMS_SOURCE\n",
    "            ,  COUNT(*) AS NUM_PROCEDURES \n",
    "            ,  COUNT(DISTINCT DPID) AS NUM_PATIENTS\n",
    "          FROM (\n",
    "                SELECT DISTINCT DPID\n",
    "                    ,  RENDERING_DEFHC_ID AS PHYSICIAN_NPI\n",
    "                    ,  GENDER\n",
    "                    ,  CAST(YEAR_OF_BIRTH AS INT64) AS YEAR_OF_BIRTH\n",
    "                    ,  CLAIM_YEAR - CAST(YEAR_OF_BIRTH AS INT64) AS AGE\n",
    "                    ,  CLAIM_YEAR\n",
    "                    ,  SAFE_CAST(CONCAT(SUBSTR(CAST(SERVICE_TO_DATE AS STRING), 1, 4), '-', SUBSTR(CAST(SERVICE_TO_DATE AS STRING), 5, 2), '-', SUBSTR(CAST(SERVICE_TO_DATE AS STRING), 7, 2)) AS DATE) AS SERVICE_TO_DATE\n",
    "                    ,  ProcedureCode AS PROCEDURE_CODE\n",
    "                FROM   DS_WORK.CLAIMS_BY_CODE_PX_SOP A \n",
    "                JOIN   CommercialHealthClaims.PhysicianLookup B\n",
    "                ON     A.RENDERING_DEFHC_ID = B.NPI \n",
    "                WHERE  CLAIM_YEAR = {yr}\n",
    "                AND    ICD_HCPCS = 2\n",
    "                AND    SourceOfPaymentCode NOT IN ('MA','MB')\n",
    "                ) A\n",
    "         GROUP BY CLAIM_YEAR\n",
    "            ,  PROCEDURE_CODE\n",
    "            ,  CASE WHEN AGE < 45 THEN 'Less than 45'\n",
    "                    WHEN AGE >=45 AND AGE <55 THEN '45-54'\n",
    "                    WHEN AGE>=55 AND AGE<65 THEN '55-64'\n",
    "                    WHEN AGE>=65 AND AGE<75 THEN '65-74'\n",
    "                    WHEN AGE>=75 AND AGE<85 THEN '75-84'\n",
    "                    WHEN AGE>=85 THEN '85+'\n",
    "               ELSE 'Unknown' END\n",
    "            ,  GENDER\n",
    "            ,  PHYSICIAN_NPI\n",
    "\"\"\".format(yr=year)\n",
    "    \n",
    "    comm_hcpcs = bq_conn.query(comm_hcpcs_sql)\n",
    "    comm_hcpcs.result()\n"
   ]
  },
  {
   "cell_type": "code",
   "execution_count": 11,
   "metadata": {},
   "outputs": [
    {
     "name": "stdout",
     "output_type": "stream",
     "text": [
      "06/29/2020, 10:34:24\n",
      "Running Commercial HCPCS Procs 2018\n",
      "Commercial HCPCS procs complete 2018.\n",
      "06/29/2020, 10:36:30\n",
      "06/29/2020, 10:36:30\n",
      "Running Commercial HCPCS Procs 2019\n",
      "Commercial HCPCS procs complete 2019.\n",
      "06/29/2020, 10:38:55\n"
     ]
    }
   ],
   "source": [
    "for year in[2018, 2019]:\n",
    "    print(datetime.now().strftime(\"%m/%d/%Y, %H:%M:%S\"))\n",
    "    print('Running Commercial HCPCS Procs {}'.format(year))\n",
    "    comm_pr_hcpcs_result = pull_commercial_hcpcs_procs(year)\n",
    "\n",
    "    print('Commercial HCPCS procs complete {}.'.format(year))\n",
    "    dataframe = comm_pr_hcpcs_result\n",
    "\n",
    "    print(datetime.now().strftime(\"%m/%d/%Y, %H:%M:%S\"))"
   ]
  },
  {
   "cell_type": "code",
   "execution_count": null,
   "metadata": {},
   "outputs": [],
   "source": []
  },
  {
   "cell_type": "code",
   "execution_count": null,
   "metadata": {},
   "outputs": [],
   "source": []
  },
  {
   "cell_type": "markdown",
   "metadata": {},
   "source": [
    "#### Diagnoses - Medicare"
   ]
  },
  {
   "cell_type": "code",
   "execution_count": 12,
   "metadata": {},
   "outputs": [],
   "source": [
    "## MEDICARE INPATIENT DIAGNOSES ##\n",
    "\n",
    "def pull_medicare_inpatient_dx(year, qtrly=0):\n",
    "    \n",
    "    if qtrly == 1:\n",
    "        q = '_q'\n",
    "        q2 = '_QTRLY'\n",
    "    else:\n",
    "        q = ''\n",
    "        q2 = ''\n",
    "    \n",
    "    med_inp_dx_sql = \"\"\"\n",
    "    SELECT  {yr} AS CLAIM_YEAR\n",
    "        ,   DIAGNOSIS_CODE\n",
    "        ,   CASE WHEN C.AGE < 45 THEN 'Less than 45'\n",
    "                 WHEN C.AGE>=45 AND C.AGE<55 THEN '45-54'\n",
    "                 WHEN C.AGE>=55 AND C.AGE<65 THEN '55-64'\n",
    "                 WHEN C.AGE>=65 AND C.AGE<75 THEN '65-74'\n",
    "                 WHEN C.AGE>=75 AND C.AGE<85 THEN '75-84'\n",
    "                 WHEN C.AGE>=85 THEN '85+'\n",
    "            ELSE 'Unknown' END AS AGE_RANGE \n",
    "        ,   CASE WHEN SEX_CODE = 1 THEN 'M' WHEN SEX_CODE = 2 THEN 'F' ELSE 'U' END AS GENDER \n",
    "        ,   A.PHYSICIAN_NPI\n",
    "        ,   'Medicare Inpatient' AS CLAIMS_SOURCE \n",
    "        ,   COUNT(*) AS NUM_DIAGNOSES\n",
    "        ,   COUNT(DISTINCT C.DESY_SORT_KEY) AS NUM_PATIENTS \n",
    "    FROM    (\n",
    "            SELECT  DISTINCT A.DESY_SORT_KEY \n",
    "                ,   A.CLM_THRU_DT \n",
    "                ,   B.CLM_DGNS_CD_ORIG AS DIAGNOSIS_CODE \n",
    "                ,   COALESCE(A.OP_PHYSN_NPI, A.AT_PHYSN_NPI) AS PHYSICIAN_NPI\n",
    "            FROM    MEDICARE_SAF_{yr}.dbo.inp_claimsk_lds_100_{yr}{q} A \n",
    "            JOIN    MEDICARE_SAF_{yr}.dbo.INPATIENT_CLM_DGNS{q2} B \n",
    "            ON      A.CLAIM_NO = B.CLAIM_NO \n",
    "            ) A\n",
    "    JOIN    MEDICARE_SAF_{yr}.dbo.CLMS_DENOMINATOR_MEDICARE{q2} C \n",
    "    ON      A.DESY_SORT_KEY = C.DESY_SORT_KEY\n",
    "    GROUP   BY  DIAGNOSIS_CODE\n",
    "        ,   CASE WHEN C.AGE < 45 THEN 'Less than 45'\n",
    "                 WHEN C.AGE>=45 AND C.AGE<55 THEN '45-54'\n",
    "                 WHEN C.AGE>=55 AND C.AGE<65 THEN '55-64'\n",
    "                 WHEN C.AGE>=65 AND C.AGE<75 THEN '65-74'\n",
    "                 WHEN C.AGE>=75 AND C.AGE<85 THEN '75-84'\n",
    "                 WHEN C.AGE>=85 THEN '85+'\n",
    "            ELSE 'Unknown' END\n",
    "        ,   CASE WHEN SEX_CODE = 1 THEN 'M' WHEN SEX_CODE = 2 THEN 'F' ELSE 'U' END\n",
    "        ,   A.PHYSICIAN_NPI\n",
    "    \"\"\".format(yr=year, q=q, q2=q2)\n",
    "\n",
    "    med_inp_dx_df = pd.read_sql(med_inp_dx_sql, ssms_conn)\n",
    "    \n",
    "    return med_inp_dx_df \n"
   ]
  },
  {
   "cell_type": "code",
   "execution_count": 13,
   "metadata": {},
   "outputs": [
    {
     "name": "stdout",
     "output_type": "stream",
     "text": [
      "06/29/2020, 10:53:59\n",
      "Running Medicare Inpatient diagnoses for 2018\n",
      "Medicare Inpatient for 2018 complete.\n",
      "Loading Medicare Inpatient diagnoses for 2018 to BQ.\n"
     ]
    },
    {
     "name": "stderr",
     "output_type": "stream",
     "text": [
      "/usr/local/lib/python3.6/site-packages/google/cloud/bigquery/_pandas_helpers.py:275: UserWarning: Unable to determine type of column 'DIAGNOSIS_CODE'.\n",
      "  warnings.warn(u\"Unable to determine type of column '{}'.\".format(column))\n"
     ]
    },
    {
     "name": "stdout",
     "output_type": "stream",
     "text": [
      "<google.cloud.bigquery.job.LoadJob object at 0x7f3186330898>\n",
      "06/29/2020, 11:32:46\n",
      "06/29/2020, 11:32:46\n",
      "Running Medicare Inpatient diagnoses for 2019\n",
      "Medicare Inpatient for 2019 complete.\n",
      "Loading Medicare Inpatient diagnoses for 2019 to BQ.\n",
      "<google.cloud.bigquery.job.LoadJob object at 0x7f28162e50b8>\n",
      "06/29/2020, 12:18:19\n"
     ]
    }
   ],
   "source": [
    "for year in[2018, 2019]:\n",
    "    if year == 2019:\n",
    "        qtrly=1\n",
    "    else:\n",
    "        qtrly=0\n",
    "    print(datetime.now().strftime(\"%m/%d/%Y, %H:%M:%S\"))\n",
    "    print('Running Medicare Inpatient diagnoses for {yr}'.format(yr=year))\n",
    "    med_inp_dx_result = pull_medicare_inpatient_dx(year, qtrly)\n",
    "    \n",
    "    print('Medicare Inpatient for {yr} complete.'.format(yr=year))\n",
    "    dataframe = med_inp_dx_result\n",
    "    \n",
    "    print('Loading Medicare Inpatient diagnoses for {yr} to BQ.'.format(yr=year))\n",
    "    tablename = 'stable-healer-231019.DS_WORK.ALL_PHYSICIAN_DIAGNOSES_MEDICARE_YEARLY'\n",
    "    job = bq_conn.load_table_from_dataframe(dataframe, destination = tablename)\n",
    "    print(job.result())\n",
    "    print(datetime.now().strftime(\"%m/%d/%Y, %H:%M:%S\"))"
   ]
  },
  {
   "cell_type": "code",
   "execution_count": null,
   "metadata": {},
   "outputs": [],
   "source": []
  },
  {
   "cell_type": "code",
   "execution_count": 5,
   "metadata": {},
   "outputs": [],
   "source": [
    "## MEDICARE OUTPATIENT DIAGNOSES ##\n",
    "\n",
    "def pull_medicare_outpatient_dx(year, qtrly, code):\n",
    "    \n",
    "    if qtrly == 1:\n",
    "        q = '_q'\n",
    "        q2 = '_QTRLY'\n",
    "    else:\n",
    "        q = ''\n",
    "        q2 = ''\n",
    "        \n",
    "    med_out_dx_sql = \"\"\"\n",
    "    SELECT   {yr} AS CLAIM_YEAR\n",
    "        ,   DIAGNOSIS_CODE\n",
    "        ,   CASE WHEN C.AGE < 45 THEN 'Less than 45'\n",
    "                 WHEN C.AGE>=45 AND C.AGE<55 THEN '45-54'\n",
    "                 WHEN C.AGE>=55 AND C.AGE<65 THEN '55-64'\n",
    "                 WHEN C.AGE>=65 AND C.AGE<75 THEN '65-74'\n",
    "                 WHEN C.AGE>=75 AND C.AGE<85 THEN '75-84'\n",
    "                 WHEN C.AGE>=85 THEN '85+'\n",
    "            ELSE 'Unknown' END AS AGE_RANGE \n",
    "        ,   CASE WHEN SEX_CODE = 1 THEN 'M' WHEN SEX_CODE = 2 THEN 'F' ELSE 'U' END AS GENDER \n",
    "        ,   A.PHYSICIAN_NPI\n",
    "        ,   'Medicare Outpatient' AS CLAIMS_SOURCE \n",
    "        ,   COUNT(*) AS NUM_DIAGNOSES\n",
    "        ,   COUNT(DISTINCT C.DESY_SORT_KEY) AS NUM_PATIENTS \n",
    "    FROM    (\n",
    "            SELECT  DISTINCT A.DESY_SORT_KEY \n",
    "                ,   A.CLM_THRU_DT \n",
    "                ,   B.CLM_DGNS_CD_ORIG AS DIAGNOSIS_CODE \n",
    "                ,   COALESCE(A.OP_PHYSN_NPI, A.AT_PHYSN_NPI) AS PHYSICIAN_NPI\n",
    "            FROM    MEDICARE_SAF_{yr}.dbo.out_claimsk_lds_100_{yr}{q} A \n",
    "            JOIN    MEDICARE_SAF_{yr}.dbo.OUTPATIENT_CLM_DGNS{q2} B \n",
    "            ON      A.CLAIM_NO = B.CLAIM_NO \n",
    "            WHERE   B.CLM_DGNS_CD_ORIG in({cd})\n",
    "            ) A\n",
    "    JOIN    MEDICARE_SAF_{yr}.dbo.CLMS_DENOMINATOR_MEDICARE{q2} C \n",
    "    ON      A.DESY_SORT_KEY = C.DESY_SORT_KEY\n",
    "    GROUP   BY  DIAGNOSIS_CODE\n",
    "        ,   CASE WHEN C.AGE < 45 THEN 'Less than 45'\n",
    "                 WHEN C.AGE>=45 AND C.AGE<55 THEN '45-54'\n",
    "                 WHEN C.AGE>=55 AND C.AGE<65 THEN '55-64'\n",
    "                 WHEN C.AGE>=65 AND C.AGE<75 THEN '65-74'\n",
    "                 WHEN C.AGE>=75 AND C.AGE<85 THEN '75-84'\n",
    "                 WHEN C.AGE>=85 THEN '85+'\n",
    "            ELSE 'Unknown' END \n",
    "        ,   CASE WHEN SEX_CODE = 1 THEN 'M' WHEN SEX_CODE = 2 THEN 'F' ELSE 'U' END \n",
    "        ,   A.PHYSICIAN_NPI\n",
    "    \"\"\".format(yr=year, q=q, q2=q2, cd=code)\n",
    "\n",
    "    med_out_dx_df = pd.read_sql(med_out_dx_sql, ssms_conn)\n",
    "    \n",
    "    return med_out_dx_df"
   ]
  },
  {
   "cell_type": "code",
   "execution_count": null,
   "metadata": {},
   "outputs": [],
   "source": []
  },
  {
   "cell_type": "code",
   "execution_count": 6,
   "metadata": {},
   "outputs": [],
   "source": [
    "year = 2018\n",
    "qtrly = 0\n",
    "q2 = ''\n",
    "\n",
    "dx_sql = \"\"\"SELECT DISTINCT CLM_DGNS_CD_ORIG AS DIAGNOSIS_CODE FROM MEDICARE_SAF_{yr}.dbo.OUTPATIENT_CLM_DGNS{q2}\"\"\".format(yr=year,q2=q2)\n",
    "dx_df = pd.read_sql(dx_sql, ssms_conn)\n",
    "dx_cds = list(dx_df['DIAGNOSIS_CODE'].unique())"
   ]
  },
  {
   "cell_type": "code",
   "execution_count": 7,
   "metadata": {},
   "outputs": [],
   "source": [
    "dx_excl_sql = \"\"\"SELECT DISTINCT DIAGNOSIS_CODE FROM DS_WORK.ALL_PHYSICIAN_DIAGNOSES_MEDICARE_YEARLY WHERE CLAIMS_SOURCE = 'Medicare Outpatient' AND CLAIM_YEAR={yr}\"\"\".format(yr=year)"
   ]
  },
  {
   "cell_type": "code",
   "execution_count": 8,
   "metadata": {},
   "outputs": [],
   "source": [
    "dx_excl_df = bq_conn.query(dx_excl_sql).result().to_dataframe()"
   ]
  },
  {
   "cell_type": "code",
   "execution_count": 9,
   "metadata": {},
   "outputs": [],
   "source": [
    "dx_excl = list(dx_excl_df['DIAGNOSIS_CODE'].unique())"
   ]
  },
  {
   "cell_type": "code",
   "execution_count": 10,
   "metadata": {},
   "outputs": [],
   "source": [
    "dx_cds_query = [\"\"\"'\"\"\"+x+\"\"\"'\"\"\" for x in dx_cds if x not in dx_excl]"
   ]
  },
  {
   "cell_type": "code",
   "execution_count": 11,
   "metadata": {},
   "outputs": [],
   "source": [
    "l  = list()\n",
    "for z in range(0, len(dx_cds_query)+1):\n",
    "    if z % 50 == 0:\n",
    "        l.append(z)"
   ]
  },
  {
   "cell_type": "code",
   "execution_count": 12,
   "metadata": {},
   "outputs": [
    {
     "data": {
      "text/plain": [
       "39042"
      ]
     },
     "execution_count": 12,
     "metadata": {},
     "output_type": "execute_result"
    }
   ],
   "source": [
    "len(dx_cds_query)"
   ]
  },
  {
   "cell_type": "code",
   "execution_count": 13,
   "metadata": {},
   "outputs": [
    {
     "name": "stdout",
     "output_type": "stream",
     "text": [
      "06/25/2020, 09:00:53\n",
      "Running Medicare Outpatient diagnoses for 2018\n"
     ]
    },
    {
     "name": "stderr",
     "output_type": "stream",
     "text": [
      "/usr/local/lib/python3.6/site-packages/google/cloud/bigquery/_pandas_helpers.py:275: UserWarning: Unable to determine type of column 'DIAGNOSIS_CODE'.\n",
      "  warnings.warn(u\"Unable to determine type of column '{}'.\".format(column))\n"
     ]
    },
    {
     "name": "stdout",
     "output_type": "stream",
     "text": [
      "Finished 06/25/2020, 17:30:59\n"
     ]
    }
   ],
   "source": [
    "print(datetime.now().strftime(\"%m/%d/%Y, %H:%M:%S\"))\n",
    "print('Running Medicare Outpatient diagnoses for {yr}'.format(yr=year))\n",
    "\n",
    "for n in l: \n",
    "    code = ','.join(dx_cds_query[n:n+50])\n",
    "    med_out_dx_result = pull_medicare_outpatient_dx(year, qtrly, code)\n",
    "    dataframe = med_out_dx_result\n",
    "    tablename = 'stable-healer-231019.DS_WORK.ALL_PHYSICIAN_DIAGNOSES_MEDICARE_YEARLY'\n",
    "    job = bq_conn.load_table_from_dataframe(dataframe, destination = tablename)\n",
    "    res = job.result()\n",
    "\n",
    "print('Finished', datetime.now().strftime(\"%m/%d/%Y, %H:%M:%S\"))"
   ]
  },
  {
   "cell_type": "code",
   "execution_count": null,
   "metadata": {},
   "outputs": [],
   "source": []
  },
  {
   "cell_type": "code",
   "execution_count": 6,
   "metadata": {},
   "outputs": [],
   "source": [
    "year = 2019\n",
    "qtrly = 1\n",
    "q2 = '_QTRLY'\n",
    "\n",
    "dx_sql = \"\"\"SELECT DISTINCT CLM_DGNS_CD_ORIG AS DIAGNOSIS_CODE FROM MEDICARE_SAF_{yr}.dbo.OUTPATIENT_CLM_DGNS{q2}\"\"\".format(yr=year,q2=q2)\n",
    "dx_df = pd.read_sql(dx_sql, ssms_conn)\n",
    "dx_cds = list(dx_df['DIAGNOSIS_CODE'].unique())\n",
    "\n",
    "dx_excl_sql = \"\"\"SELECT DISTINCT DIAGNOSIS_CODE FROM DS_WORK.ALL_PHYSICIAN_DIAGNOSES_MEDICARE_YEARLY WHERE CLAIMS_SOURCE = 'Medicare Outpatient' AND CLAIM_YEAR={yr}\"\"\".format(yr=year)\n",
    "dx_excl_df = bq_conn.query(dx_excl_sql).result().to_dataframe()\n",
    "dx_excl = list(dx_excl_df['DIAGNOSIS_CODE'].unique())"
   ]
  },
  {
   "cell_type": "code",
   "execution_count": 7,
   "metadata": {},
   "outputs": [],
   "source": [
    "dx_cds_query = [\"\"\"'\"\"\"+x+\"\"\"'\"\"\" for x in dx_cds if x not in dx_excl]"
   ]
  },
  {
   "cell_type": "code",
   "execution_count": 8,
   "metadata": {},
   "outputs": [
    {
     "data": {
      "text/plain": [
       "37761"
      ]
     },
     "execution_count": 8,
     "metadata": {},
     "output_type": "execute_result"
    }
   ],
   "source": [
    "len(dx_cds_query)"
   ]
  },
  {
   "cell_type": "code",
   "execution_count": 9,
   "metadata": {},
   "outputs": [],
   "source": [
    "l  = list()\n",
    "for z in range(0, len(dx_cds_query)+1):\n",
    "    if z % 50 == 0:\n",
    "        l.append(z)"
   ]
  },
  {
   "cell_type": "code",
   "execution_count": 10,
   "metadata": {},
   "outputs": [
    {
     "name": "stdout",
     "output_type": "stream",
     "text": [
      "06/26/2020, 13:52:53\n",
      "Running Medicare Outpatient diagnoses for 2019\n"
     ]
    },
    {
     "name": "stderr",
     "output_type": "stream",
     "text": [
      "/usr/local/lib/python3.6/site-packages/google/cloud/bigquery/_pandas_helpers.py:275: UserWarning: Unable to determine type of column 'DIAGNOSIS_CODE'.\n",
      "  warnings.warn(u\"Unable to determine type of column '{}'.\".format(column))\n"
     ]
    },
    {
     "name": "stdout",
     "output_type": "stream",
     "text": [
      "Finished 06/26/2020, 20:16:57\n"
     ]
    }
   ],
   "source": [
    "print(datetime.now().strftime(\"%m/%d/%Y, %H:%M:%S\"))\n",
    "print('Running Medicare Outpatient diagnoses for {yr}'.format(yr=year))\n",
    "\n",
    "for n in l: \n",
    "    code = ','.join(dx_cds_query[n:n+50])\n",
    "    med_out_dx_result = pull_medicare_outpatient_dx(year, qtrly, code)\n",
    "    dataframe = med_out_dx_result\n",
    "    tablename = 'stable-healer-231019.DS_WORK.ALL_PHYSICIAN_DIAGNOSES_MEDICARE_YEARLY'\n",
    "    job = bq_conn.load_table_from_dataframe(dataframe, destination = tablename)\n",
    "    res = job.result()\n",
    "\n",
    "print('Finished', datetime.now().strftime(\"%m/%d/%Y, %H:%M:%S\"))"
   ]
  },
  {
   "cell_type": "code",
   "execution_count": null,
   "metadata": {},
   "outputs": [],
   "source": []
  },
  {
   "cell_type": "code",
   "execution_count": null,
   "metadata": {},
   "outputs": [],
   "source": []
  },
  {
   "cell_type": "code",
   "execution_count": 14,
   "metadata": {},
   "outputs": [
    {
     "name": "stdout",
     "output_type": "stream",
     "text": [
      "<google.cloud.bigquery.table._EmptyRowIterator object at 0x7f318b363ef0>\n",
      "Command successful:  0\n",
      "<google.cloud.bigquery.table._EmptyRowIterator object at 0x7f318b3218d0>\n",
      "Command successful:  1\n",
      "Command skipped:  2\n"
     ]
    }
   ],
   "source": [
    "# Commercial diagnoses\n",
    "run_sql_BQ('CLAIMS_BY_CODE_dx_table_COMM.txt')"
   ]
  },
  {
   "cell_type": "code",
   "execution_count": 17,
   "metadata": {},
   "outputs": [],
   "source": [
    "## COMMERCIAL DIAGNOSES ## \n",
    "\n",
    "def pull_commercial_dx(year):\n",
    "    \n",
    "    comm_dx_sql = \"\"\"\n",
    "        INSERT INTO DS_WORK.ALL_PHYSICIAN_DIAGNOSES_COMMERCIAL_YEARLY (CLAIM_YEAR, DIAGNOSIS_CODE, AGE_RANGE, GENDER, PHYSICIAN_NPI, CLAIMS_SOURCE, NUM_DIAGNOSES, NUM_PATIENTS)\n",
    "        SELECT CLAIM_YEAR\n",
    "            ,  DIAGNOSIS_CODE\n",
    "            ,  CASE WHEN AGE < 45 THEN 'Less than 45'\n",
    "                    WHEN AGE >=45 AND AGE <55 THEN '45-54'\n",
    "                    WHEN AGE>=55 AND AGE<65 THEN '55-64'\n",
    "                    WHEN AGE>=65 AND AGE<75 THEN '65-74'\n",
    "                    WHEN AGE>=75 AND AGE<85 THEN '75-84'\n",
    "                    WHEN AGE>=85 THEN '85+'\n",
    "               ELSE 'Unknown' END AS AGE_RANGE\n",
    "            ,  GENDER\n",
    "            ,  PHYSICIAN_NPI\n",
    "            ,  'Commercial' AS CLAIMS_SOURCE\n",
    "            ,  COUNT(*) AS NUM_DIAGNOSES \n",
    "            ,  COUNT(DISTINCT DPID) AS NUM_PATIENTS\n",
    "          FROM (\n",
    "                SELECT DISTINCT DPID\n",
    "                    ,  RENDERING_DEFHC_ID AS PHYSICIAN_NPI\n",
    "                    ,  GENDER\n",
    "                    ,  CAST(YEAR_OF_BIRTH AS INT64) AS YEAR_OF_BIRTH\n",
    "                    ,  CLAIM_YEAR - CAST(YEAR_OF_BIRTH AS INT64) AS AGE\n",
    "                    ,  CLAIM_YEAR\n",
    "                    ,  SAFE_CAST(CONCAT(SUBSTR(CAST(SERVICE_TO_DATE AS STRING), 1, 4), '-', SUBSTR(CAST(SERVICE_TO_DATE AS STRING), 5, 2), '-', SUBSTR(CAST(SERVICE_TO_DATE AS STRING), 7, 2)) AS DATE) AS SERVICE_TO_DATE\n",
    "                    ,  DiagnosisCode AS DIAGNOSIS_CODE\n",
    "                FROM   DS_WORK.CLAIMS_BY_CODE_DX_SOP A \n",
    "                JOIN   CommercialHealthClaims.PhysicianLookup B\n",
    "                ON     A.RENDERING_DEFHC_ID = B.NPI \n",
    "                WHERE  CLAIM_YEAR = {yr}\n",
    "                AND    SourceOfPaymentCode NOT IN ('MA','MB')\n",
    "                ) A\n",
    "         GROUP BY CLAIM_YEAR\n",
    "            ,  DIAGNOSIS_CODE\n",
    "            ,  CASE WHEN AGE < 45 THEN 'Less than 45'\n",
    "                    WHEN AGE >=45 AND AGE <55 THEN '45-54'\n",
    "                    WHEN AGE>=55 AND AGE<65 THEN '55-64'\n",
    "                    WHEN AGE>=65 AND AGE<75 THEN '65-74'\n",
    "                    WHEN AGE>=75 AND AGE<85 THEN '75-84'\n",
    "                    WHEN AGE>=85 THEN '85+'\n",
    "               ELSE 'Unknown' END\n",
    "            ,  GENDER\n",
    "            ,  PHYSICIAN_NPI\n",
    "\"\"\".format(yr=year)\n",
    "    \n",
    "    comm_dx = bq_conn.query(comm_dx_sql)\n",
    "    comm_dx.result()"
   ]
  },
  {
   "cell_type": "code",
   "execution_count": 18,
   "metadata": {},
   "outputs": [
    {
     "name": "stdout",
     "output_type": "stream",
     "text": [
      "06/29/2020, 12:51:10\n",
      "Running Commercial ICD Diagnoses 2018\n",
      "Commercial ICD diagnoses complete 2018.\n",
      "06/29/2020, 12:53:52\n",
      "06/29/2020, 12:53:52\n",
      "Running Commercial ICD Diagnoses 2019\n",
      "Commercial ICD diagnoses complete 2019.\n",
      "06/29/2020, 12:57:03\n"
     ]
    }
   ],
   "source": [
    "for year in[2018, 2019]:\n",
    "    print(datetime.now().strftime(\"%m/%d/%Y, %H:%M:%S\"))\n",
    "    print('Running Commercial ICD Diagnoses {}'.format(year))\n",
    "    comm_dx_icd_result = pull_commercial_dx(year)\n",
    "\n",
    "    print('Commercial ICD diagnoses complete {}.'.format(year))\n",
    "    dataframe = comm_dx_icd_result\n",
    "\n",
    "    print(datetime.now().strftime(\"%m/%d/%Y, %H:%M:%S\"))"
   ]
  },
  {
   "cell_type": "code",
   "execution_count": null,
   "metadata": {},
   "outputs": [],
   "source": []
  }
 ],
 "metadata": {
  "kernelspec": {
   "display_name": "Python 3",
   "language": "python",
   "name": "python3"
  },
  "language_info": {
   "codemirror_mode": {
    "name": "ipython",
    "version": 3
   },
   "file_extension": ".py",
   "mimetype": "text/x-python",
   "name": "python",
   "nbconvert_exporter": "python",
   "pygments_lexer": "ipython3",
   "version": "3.6.8"
  }
 },
 "nbformat": 4,
 "nbformat_minor": 4
}
